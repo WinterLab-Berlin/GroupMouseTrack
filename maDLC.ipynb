{
 "cells": [
  {
   "cell_type": "markdown",
   "metadata": {},
   "source": [
    "# GUI"
   ]
  },
  {
   "cell_type": "markdown",
   "metadata": {},
   "source": [
    "### Full graphical user interface: just follow the tabs in the GUI. To launch the GUI, type in the terminal:\n",
    "python -m deeplabcut"
   ]
  },
  {
   "cell_type": "markdown",
   "metadata": {},
   "source": [
    "# Terminal"
   ]
  },
  {
   "cell_type": "markdown",
   "metadata": {},
   "source": [
    "Import deeplabcut"
   ]
  },
  {
   "cell_type": "code",
   "execution_count": 1,
   "metadata": {},
   "outputs": [],
   "source": [
    "import deeplabcut"
   ]
  },
  {
   "cell_type": "markdown",
   "metadata": {},
   "source": [
    "(1) Create a project"
   ]
  },
  {
   "cell_type": "code",
   "execution_count": null,
   "metadata": {},
   "outputs": [],
   "source": [
    "project_name = \"cutemice\"\n",
    "experimenter = \"teamdlc\"\n",
    "video_path = \"path_to_a_video_file\"\n",
    "config_path = deeplabcut.create_new_project(\n",
    "    project_name,\n",
    "    experimenter,\n",
    "    [video_paths],\n",
    "    multianimal=True,\n",
    "    copy_videos=True,\n",
    ")"
   ]
  }
 ],
 "metadata": {
  "kernelspec": {
   "display_name": "Python 3.8.12 ('DEEPLABCUT')",
   "language": "python",
   "name": "python3"
  },
  "language_info": {
   "codemirror_mode": {
    "name": "ipython",
    "version": 3
   },
   "file_extension": ".py",
   "mimetype": "text/x-python",
   "name": "python",
   "nbconvert_exporter": "python",
   "pygments_lexer": "ipython3",
   "version": "3.8.13"
  },
  "orig_nbformat": 4,
  "vscode": {
   "interpreter": {
    "hash": "8726a894e546edc3c3642bb4a942f774a95e165552ea241bbc57c10c70b6641e"
   }
  }
 },
 "nbformat": 4,
 "nbformat_minor": 2
}
